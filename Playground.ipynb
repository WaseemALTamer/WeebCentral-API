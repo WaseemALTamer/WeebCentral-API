{
 "cells": [
  {
   "cell_type": "code",
   "execution_count": null,
   "metadata": {},
   "outputs": [],
   "source": [
    "import requests\n",
    "\n",
    "# Define the base URL\n",
    "url = \"https://weebcentral.com/search/data\"\n",
    "\n",
    "# Define the query parameters\n",
    "params = {\n",
    "    \"limit\": 32,\n",
    "    \"offset\": 8600,\n",
    "    \"order\": \"Ascending\",\n",
    "    \"display_mode\": \"Minimal Display\"\n",
    "}\n",
    "\n",
    "\n",
    "# Send the GET request with query parameters\n",
    "response = requests.get(url, params=params)\n",
    "\n",
    "# Print the response\n",
    "print(\"URL:\", response.url)  # To verify the constructed URL\n",
    "print(\"Status Code:\", response.status_code)\n",
    "print(\"Response Text:\", len(response.text))"
   ]
  },
  {
   "cell_type": "code",
   "execution_count": null,
   "metadata": {},
   "outputs": [],
   "source": [
    "print(response.text)"
   ]
  },
  {
   "cell_type": "code",
   "execution_count": null,
   "metadata": {},
   "outputs": [],
   "source": [
    "from urllib.parse import urlparse\n",
    "from bs4 import BeautifulSoup\n",
    "\n",
    "\n",
    "def extract_series_data(url):\n",
    "    \"\"\"\n",
    "    Extract series ID and name from the given URL and store them in a dictionary.\n",
    "    \n",
    "    Args:\n",
    "        url (str): The URL to extract data from.\n",
    "        \n",
    "    Returns:\n",
    "        dict: A dictionary with the series name as the key and the series ID as the value.\n",
    "    \"\"\"\n",
    "    path = urlparse(url).path\n",
    "    parts = path.split('/')\n",
    "    if len(parts) >= 3 and parts[1] == \"series\":\n",
    "        series_id = parts[2]\n",
    "        series_name = parts[3]\n",
    "        return {\"Name\" : series_name, \"ID\": series_id}\n",
    "\n",
    "html_content = response.text\n",
    "\n",
    "soup = BeautifulSoup(html_content, \"html.parser\")\n",
    "\n",
    "a_tags = soup.find_all('a')\n",
    "for tag in a_tags:\n",
    "    print(extract_series_data(tag[\"href\"]))"
   ]
  },
  {
   "cell_type": "code",
   "execution_count": null,
   "metadata": {},
   "outputs": [],
   "source": [
    "from API import NamesIDGraper\n",
    "\n",
    "Object = NamesIDGraper()\n",
    "\n",
    "Object.GrapAllShowsOnline()"
   ]
  },
  {
   "cell_type": "code",
   "execution_count": null,
   "metadata": {},
   "outputs": [],
   "source": [
    "import json\n",
    "with open(\"JsonFiles/MangaNamesToID.json\", \"w\") as json_file:\n",
    "    json.dump(Object.MangaData, json_file, indent=4)"
   ]
  },
  {
   "cell_type": "code",
   "execution_count": null,
   "metadata": {},
   "outputs": [],
   "source": [
    "import requests\n",
    "\n",
    "# Define the base URL\n",
    "url = \"https://weebcentral.com/search/simple?location=main\"\n",
    "\n",
    "# Define the query parameters\n",
    "params = {\n",
    "    \"location\":\"main\"\n",
    "}\n",
    "\n",
    "data = {\n",
    "    \"text\" : \"dr.\"\n",
    "}\n",
    "headers = {\n",
    "    \"User-Agent\": \"Mozilla/5.0 (WinAppleWebKit/537.36 (KHTML, like Gecko) Chrome/133.0.0.0 Safari/537.36 Edg/133.0.0.0\"\n",
    "}\n",
    "\n",
    "\n",
    "# Send the GET request with query parameters\n",
    "response = requests.post(url, params=params, data=data, headers=headers)\n",
    "\n",
    "# Print the response\n",
    "print(\"URL:\", response.url)  # To verify the constructed URL\n",
    "print(\"Status Code:\", response.status_code)\n",
    "print(\"Response Text:\", len(response.text))"
   ]
  },
  {
   "cell_type": "code",
   "execution_count": null,
   "metadata": {},
   "outputs": [],
   "source": [
    "print(response.text)"
   ]
  },
  {
   "cell_type": "code",
   "execution_count": null,
   "metadata": {},
   "outputs": [],
   "source": [
    "from API import NamesIDGraper\n",
    "\n",
    "Object = NamesIDGraper()\n",
    "\n",
    "Object.SearchSeriesOnline(\"The Gamer\")"
   ]
  },
  {
   "cell_type": "code",
   "execution_count": null,
   "metadata": {},
   "outputs": [],
   "source": [
    "import requests\n",
    "_url = \"https://weebcentral.com/series/\"\n",
    "_series = \"01J76XY9DYH4MH2HZG2PPF74A6\"\n",
    "filler = \"/chapter-select?current_chapter=none&current_page=None\"\n",
    "\n",
    "response = requests.get(_url+_series+filler)\n",
    "response.status_code"
   ]
  },
  {
   "cell_type": "code",
   "execution_count": null,
   "metadata": {},
   "outputs": [],
   "source": [
    "print(response.text)"
   ]
  },
  {
   "cell_type": "code",
   "execution_count": null,
   "metadata": {},
   "outputs": [],
   "source": [
    "url = \"https://weebcentral.com/series/01J76XYC1GAF2FWQ59Q0Y17TPA/full-chapter-list\"\n",
    "\n",
    "response = requests.get(url)\n",
    "response.status_code"
   ]
  },
  {
   "cell_type": "code",
   "execution_count": null,
   "metadata": {},
   "outputs": [],
   "source": [
    "print(response.text)"
   ]
  },
  {
   "cell_type": "code",
   "execution_count": null,
   "metadata": {},
   "outputs": [],
   "source": [
    "from bs4 import BeautifulSoup\n",
    "soup = BeautifulSoup(response.text, \"html.parser\")\n",
    "a_tags = soup.find_all('a',attrs={\"x-data\": True, \n",
    "                                  \"class\": True,\n",
    "                                  \"href\": True})\n",
    "\n",
    "\n",
    "for i in range(len(a_tags)):\n",
    "    print(a_tags[i][\"href\"])\n",
    "    print(a_tags[i].time[\"datetime\"])\n",
    "    spans = a_tags[i].find_all('span', class_=\"\")\n",
    "    print(spans[0].text)\n"
   ]
  },
  {
   "cell_type": "code",
   "execution_count": null,
   "metadata": {},
   "outputs": [],
   "source": [
    "from bs4 import BeautifulSoup\n",
    "soup = BeautifulSoup(response.text, \"html.parser\")\n",
    "\n",
    "SeasonDict = {\n",
    "\n",
    "}\n",
    "\n",
    "a_tags = soup.find_all('a')\n",
    "for tag in a_tags[::-1]:\n",
    "    Header, Link = tag.text, tag[\"href\"]\n",
    "    Data = Header.split(\" \")\n",
    "    Chapter = Data[-1]\n",
    "    SeasonID = Data[0]\n",
    "    try:\n",
    "        Season = SeasonDict[SeasonID]\n",
    "    except:\n",
    "        SeasonDict[SeasonID] = len(SeasonDict) + 1\n",
    "        Season = SeasonDict[SeasonID]\n",
    "\n",
    "    print(Season, Chapter)\n",
    "\n"
   ]
  },
  {
   "cell_type": "code",
   "execution_count": null,
   "metadata": {},
   "outputs": [],
   "source": [
    "class KeyBinds:\n",
    "    def __init__(self):\n",
    "        AttackKey = \"K\"\n",
    "\n",
    "\n",
    "class PlayerMoveMent:\n",
    "    def __init__(self):\n",
    "        _KeyBinds = KeyBinds()\n",
    "\n",
    "Player_1Keybinds = KeyBinds()\n",
    "\n",
    "def attack():\n",
    "    \n",
    "    Player_1Keybinds.AttackKey\n",
    "    pass"
   ]
  },
  {
   "cell_type": "code",
   "execution_count": null,
   "metadata": {},
   "outputs": [],
   "source": [
    "from API import SeriesDataGraper\n",
    "from Structure import Series\n",
    "\n",
    "_series = Series()\n",
    "_series.DomainID = \"01J76XY9DYH4MH2HZG2PPF74A6\"\n",
    "\n",
    "\n",
    "Object = SeriesDataGraper(_series)\n",
    "for Chapter in Object.Chapters:\n",
    "    print(Chapter.ChapterID)\n"
   ]
  },
  {
   "cell_type": "code",
   "execution_count": null,
   "metadata": {},
   "outputs": [],
   "source": [
    "from API import NamesIDGraper\n",
    "_object = NamesIDGraper()\n",
    "\n",
    "results = _object.GrapAllSeriesOnline()\n",
    "\n",
    "len(_object.SeriesData)"
   ]
  },
  {
   "cell_type": "code",
   "execution_count": null,
   "metadata": {},
   "outputs": [],
   "source": [
    "for reslut in _object.SeriesData:\n",
    "    print(reslut.DomainName)"
   ]
  },
  {
   "cell_type": "code",
   "execution_count": null,
   "metadata": {},
   "outputs": [],
   "source": [
    "import requests\n",
    "url = \"https://weebcentral.com/sitemap.xml\"\n",
    "\n",
    "response = requests.get(url)\n",
    "response.status_code"
   ]
  },
  {
   "cell_type": "code",
   "execution_count": null,
   "metadata": {},
   "outputs": [],
   "source": [
    "import re\n",
    "\n",
    "\n",
    "url_pattern = r'<loc>(https?://\\S+)</loc>'\n",
    "\n",
    "# Find all URLs in the text\n",
    "urls = re.findall(url_pattern, response.text)\n",
    "\n",
    "# Print the list of URLs\n",
    "urls\n"
   ]
  },
  {
   "cell_type": "code",
   "execution_count": null,
   "metadata": {},
   "outputs": [],
   "source": [
    "import requests\n",
    "url = \"https://weebcentral.com/series/01J76XYD1PPEBM28FKRA73XZT1\"\n",
    "\n",
    "response = requests.get(url)\n",
    "response.status_code"
   ]
  },
  {
   "cell_type": "code",
   "execution_count": null,
   "metadata": {},
   "outputs": [],
   "source": [
    "from bs4 import BeautifulSoup\n",
    "\n",
    "\n",
    "soup = BeautifulSoup(response.text, \"html.parser\")\n",
    "\n"
   ]
  },
  {
   "cell_type": "code",
   "execution_count": null,
   "metadata": {},
   "outputs": [],
   "source": [
    "NameHtml = soup.find_all('h1')\n",
    "NameHtml[1].text # this will grap name\n",
    "\n",
    "DescriptionHtml = soup.find_all('p')\n",
    "DescriptionHtml[0].text # this graps the discription\n",
    "\n",
    "AltNames = soup.find_all('li')\n",
    "filtered_li = [\n",
    "    li for li in AltNames\n",
    "    if li.find('strong') and li.find('strong').text.strip() == \"Associated Name(s)\"\n",
    "]\n",
    "for li in filtered_li:\n",
    "    nested_items = li.find('ul').find_all('li')  # Get nested <li> elements\n",
    "    for item in nested_items:\n",
    "        print(item.text.strip())  # Print the text content\n"
   ]
  },
  {
   "cell_type": "code",
   "execution_count": null,
   "metadata": {},
   "outputs": [],
   "source": [
    "from API import SeriesDataGraper\n",
    "from Structure import Series\n",
    "\n",
    "_series = Series()\n",
    "_series.DomainID = \"01J76XY9DYH4MH2HZG2PPF74A6\"\n",
    "\n",
    "Object = SeriesDataGraper(_series)"
   ]
  },
  {
   "cell_type": "code",
   "execution_count": null,
   "metadata": {},
   "outputs": [],
   "source": [
    "Object.GrapSeriesCover()\n",
    "_image = Object.Series.__dict__[\"CoverImage\"]\n"
   ]
  },
  {
   "cell_type": "code",
   "execution_count": null,
   "metadata": {},
   "outputs": [],
   "source": [
    "with open(f\"Cover.jpg\", \"wb\") as f:\n",
    "    f.write(_image)"
   ]
  },
  {
   "cell_type": "code",
   "execution_count": null,
   "metadata": {},
   "outputs": [],
   "source": [
    "from API import SeriesDataGraper, ChaptersDataGraper\n",
    "from Structure import Series\n",
    "\n",
    "_series = Series()\n",
    "_series.DomainID = \"01J76XY9DYH4MH2HZG2PPF74A6\"\n",
    "\n",
    "Object = SeriesDataGraper(_series)\n",
    "\n",
    "Object.GrapChaptersInfo()\n",
    "\n",
    "url = Object.Series.Chapters[0].Link\n",
    "\n",
    "url\n",
    "\n"
   ]
  },
  {
   "cell_type": "code",
   "execution_count": null,
   "metadata": {},
   "outputs": [],
   "source": [
    "Object_2 = ChaptersDataGraper(chapter=Object.Series.Chapters[0])\n",
    "Object_2.GrapChapterInfromation()\n",
    "\n",
    "\n",
    "Object_2.Chapter.__dict__"
   ]
  },
  {
   "cell_type": "code",
   "execution_count": null,
   "metadata": {},
   "outputs": [],
   "source": [
    "import requests\n",
    "\n",
    "response = requests.get(url)\n",
    "response.status_code"
   ]
  },
  {
   "cell_type": "code",
   "execution_count": null,
   "metadata": {},
   "outputs": [],
   "source": [
    "from bs4 import BeautifulSoup\n",
    "import re\n",
    "\n",
    "print(url)\n",
    "\n",
    "soup = BeautifulSoup(response.text, \"html.parser\")\n",
    "\n",
    "_link = target_link = soup.find('link', {'as': 'image', 'rel': 'preload'})[\"href\"] # fine Pages Domain\n",
    "\n",
    "\n",
    "match = re.search(r\"max_page: parseInt\\('(\\d+)'\\),\", response.text)\n",
    "\n",
    "number = match.group(1)  # Extract the captured number\n"
   ]
  },
  {
   "cell_type": "code",
   "execution_count": null,
   "metadata": {},
   "outputs": [],
   "source": [
    "print(url)\n",
    "def _getBaseUrl(url):\n",
    "    index = url.find('/', url.find('//') + 2)\n",
    "    if index != -1:\n",
    "        return url[:index + 1]\n",
    "    return url\n",
    "\n",
    "_getBaseUrl(url)"
   ]
  },
  {
   "cell_type": "code",
   "execution_count": null,
   "metadata": {},
   "outputs": [],
   "source": [
    "def update_page_number(url, new_page_number):\n",
    "    _splitedData = url.split(\"/\")\n",
    "    _pageNameAndExtention = _splitedData[-1]\n",
    "    _name, _extention = _pageNameAndExtention.split(\".\")\n",
    "    _chapter, _pageNum = _name.split(\"-\")\n",
    "    _splitedData[-1] = f\"{_chapter}-{new_page_number:03}.{_extention}\"\n",
    "    _joinedData = \"/\".join(_splitedData)\n",
    "    return _joinedData\n",
    "\n",
    "\n",
    "\n",
    "\n",
    "\n",
    "url = \"https://official.lowee.us/manga/The-Gamer/S1/0001-001.png\"\n",
    "new_page_number = 6\n",
    "\n",
    "update_page_number(url, new_page_number)\n"
   ]
  },
  {
   "cell_type": "code",
   "execution_count": null,
   "metadata": {},
   "outputs": [
    {
     "ename": "ImportError",
     "evalue": "attempted relative import with no known parent package",
     "output_type": "error",
     "traceback": [
      "\u001b[1;31m---------------------------------------------------------------------------\u001b[0m",
      "\u001b[1;31mImportError\u001b[0m                               Traceback (most recent call last)",
      "Cell \u001b[1;32mIn[3], line 1\u001b[0m\n\u001b[1;32m----> 1\u001b[0m \u001b[38;5;28;01mfrom\u001b[39;00m \u001b[38;5;21;01mAPI\u001b[39;00m \u001b[38;5;28;01mimport\u001b[39;00m SeriesDataGraper, ChaptersDataGraper\n\u001b[0;32m      2\u001b[0m \u001b[38;5;28;01mfrom\u001b[39;00m \u001b[38;5;21;01mStructure\u001b[39;00m \u001b[38;5;28;01mimport\u001b[39;00m Series\n\u001b[0;32m      4\u001b[0m _series \u001b[38;5;241m=\u001b[39m Series()\n",
      "File \u001b[1;32mf:\\Projects\\MangaGrpaer\\MangaSeriesInstaller\\APIs\\WeebCenteral\\API.py:16\u001b[0m\n\u001b[0;32m      1\u001b[0m \u001b[38;5;66;03m# this file main perpose is to provide the infromation needed to install Manga from the\u001b[39;00m\n\u001b[0;32m      2\u001b[0m \u001b[38;5;66;03m# website called  \"https://weebcentral.com/\" this API will provide a simple way to grab\u001b[39;00m\n\u001b[0;32m      3\u001b[0m \u001b[38;5;66;03m# the series on the website and scrap data like description names and pages domain note\u001b[39;00m\n\u001b[1;32m   (...)\u001b[0m\n\u001b[0;32m      7\u001b[0m \u001b[38;5;66;03m# so changing to the site are going to be frequent and the code below will  change  the\u001b[39;00m\n\u001b[0;32m      8\u001b[0m \u001b[38;5;66;03m# the structure of the code and the final ouput of the code should remain the same. \u001b[39;00m\n\u001b[1;32m---> 16\u001b[0m \u001b[38;5;28;01mfrom\u001b[39;00m \u001b[38;5;21;01m.\u001b[39;00m\u001b[38;5;21;01mStructure\u001b[39;00m \u001b[38;5;28;01mimport\u001b[39;00m Chapter , Series\n\u001b[0;32m     17\u001b[0m \u001b[38;5;28;01mfrom\u001b[39;00m \u001b[38;5;21;01m.\u001b[39;00m \u001b[38;5;28;01mimport\u001b[39;00m Cypher, Constants, DummyHeaders\n\u001b[0;32m     18\u001b[0m \u001b[38;5;28;01mfrom\u001b[39;00m \u001b[38;5;21;01murllib\u001b[39;00m\u001b[38;5;21;01m.\u001b[39;00m\u001b[38;5;21;01mparse\u001b[39;00m \u001b[38;5;28;01mimport\u001b[39;00m urlparse\n",
      "\u001b[1;31mImportError\u001b[0m: attempted relative import with no known parent package"
     ]
    },
    {
     "ename": "",
     "evalue": "",
     "output_type": "error",
     "traceback": [
      "\u001b[1;31mThe Kernel crashed while executing code in the current cell or a previous cell. \n",
      "\u001b[1;31mPlease review the code in the cell(s) to identify a possible cause of the failure. \n",
      "\u001b[1;31mClick <a href='https://aka.ms/vscodeJupyterKernelCrash'>here</a> for more info. \n",
      "\u001b[1;31mView Jupyter <a href='command:jupyter.viewOutput'>log</a> for further details."
     ]
    }
   ],
   "source": [
    "from API import SeriesDataGraper, ChaptersDataGraper\n",
    "from Structure import Series\n",
    "\n",
    "_series = Series()\n",
    "_series.DomainID = \"01J76XY9DYH4MH2HZG2PPF74A6\"\n",
    "\n",
    "Object = SeriesDataGraper(_series)\n",
    "\n",
    "Object.GrapChaptersInfo()\n",
    "\n",
    "url = Object.Series.Chapters[0].Link\n",
    "\n",
    "Object_2 = ChaptersDataGraper(chapter=Object.Series.Chapters[0])\n",
    "Object_2.GrapChapterInfromation()\n",
    "\n",
    "\n",
    "Object_2.Chapter.__dict__"
   ]
  },
  {
   "cell_type": "code",
   "execution_count": null,
   "metadata": {},
   "outputs": [],
   "source": [
    "Object_2.PageUrlFromNum(16)"
   ]
  },
  {
   "cell_type": "code",
   "execution_count": null,
   "metadata": {},
   "outputs": [],
   "source": [
    "import time\n",
    "\n",
    "\n",
    "timestamp = 0"
   ]
  },
  {
   "cell_type": "code",
   "execution_count": null,
   "metadata": {},
   "outputs": [],
   "source": [
    "\n",
    "if timestamp <= time.time():\n",
    "    print(\"attacked\")\n",
    "    timestamp = time.time() + 2\n",
    "else:\n",
    "    print(\"cool down\")\n",
    "    print(f\"time for cool down left {timestamp - time.time()}\")"
   ]
  },
  {
   "cell_type": "code",
   "execution_count": null,
   "metadata": {},
   "outputs": [],
   "source": [
    "from API import SeriesDataGraper, ChaptersDataGraper\n",
    "from Structure import Series\n",
    "\n",
    "_series = Series()\n",
    "_series.DomainID = \"01J76XY9DYH4MH2HZG2PPF74A6\"\n",
    "Object = SeriesDataGraper(_series)\n",
    "Object.GrapChaptersInfo()\n",
    "\n",
    "x = ChaptersDataGraper()\n",
    "\n",
    "Object.Series.Chapters\n",
    "\n"
   ]
  },
  {
   "cell_type": "code",
   "execution_count": 52,
   "metadata": {},
   "outputs": [
    {
     "data": {
      "text/plain": [
       "1076044"
      ]
     },
     "execution_count": 52,
     "metadata": {},
     "output_type": "execute_result"
    }
   ],
   "source": [
    "import requests\n",
    "_url = \"https://weebcentral.com/series/01J76XYBZCFB9A40YCE4RCQ6KB/full-chapter-list\"\n",
    "\n",
    "_headers = {\n",
    "    \"user-agent\": \"Mozilla/5.0 (Windows NT 10.0; Win64; x64) AppleWebKit/537.36 (KHTML, like Gecko) Chrome/135.0.0.0 Safari/537.36 Edg/135.0.0.0\"\n",
    "}\n",
    "response = requests.get(_url, headers=_headers)\n",
    "\n",
    "len(response.text)\n"
   ]
  },
  {
   "cell_type": "code",
   "execution_count": 40,
   "metadata": {},
   "outputs": [
    {
     "data": {
      "text/plain": [
       "11737860"
      ]
     },
     "execution_count": 40,
     "metadata": {},
     "output_type": "execute_result"
    }
   ],
   "source": [
    "import requests\n",
    "_url = \"https://weebcentral.com/series/01J76XY7E9FNDZ1DBBM6PBJPFK/full-chapter-list\"\n",
    "\n",
    "_header = {\n",
    "    \"Hx-Request\": \"true\",\n",
    "    \"Hx-Target\": \"chapter-list\",\n",
    "    \"Sec-Ch-Ua\": \"\\\"Not(A:Brand\\\";v=\\\"99\\\", \\\"Microsoft Edge\\\";v=\\\"133\\\", \\\"Chromium\\\";v=\\\"133\\\"\",\n",
    "    \"Sec-Ch-Ua-Mobile\": \"?0\",\n",
    "    \"Sec-Ch-Ua-Platform\": \"\\\"Windows\\\"\",\n",
    "    \"User-Agent\": \"Mozilla/5.0 (Windows NT 10.0; Win64; x64) AppleWebKit/537.36 (KHTML, like Gecko) Chrome/133.0.0.0 Safari/537.36 Edg/133.0.0.0\"\n",
    "}\n",
    "response = requests.get(_url, headers=_header)\n",
    "\n",
    "len(response.text)"
   ]
  },
  {
   "cell_type": "code",
   "execution_count": 105,
   "metadata": {},
   "outputs": [
    {
     "data": {
      "text/plain": [
       "1158688"
      ]
     },
     "execution_count": 105,
     "metadata": {},
     "output_type": "execute_result"
    }
   ],
   "source": [
    "import requests\n",
    "\n",
    "url = \"https://weebcentral.com/series/01J76XY7G0WYV1216AF67J3382/full-chapter-list\"\n",
    "\n",
    "headers = {\n",
    "    \"user-agent\": \"Mozilla/5.0 (Windows NT 10.0; Win64; x64) AppleWebKit/537.36 (KHTML, like Gecko) Chrome/135.0.0.0 Safari/537.36 Edg/135.0.0.0\"\n",
    "}\n",
    "\n",
    "response = requests.get(url, headers=headers)\n",
    "len(response.text)\n"
   ]
  },
  {
   "cell_type": "code",
   "execution_count": 111,
   "metadata": {},
   "outputs": [
    {
     "data": {
      "text/plain": [
       "[<Structure.Chapter at 0x1656db84f80>,\n",
       " <Structure.Chapter at 0x1656db84fb0>,\n",
       " <Structure.Chapter at 0x1656db85010>,\n",
       " <Structure.Chapter at 0x1656db85070>,\n",
       " <Structure.Chapter at 0x1656db850d0>,\n",
       " <Structure.Chapter at 0x1656db85130>,\n",
       " <Structure.Chapter at 0x1656db85190>,\n",
       " <Structure.Chapter at 0x1656db851f0>,\n",
       " <Structure.Chapter at 0x1656db85250>,\n",
       " <Structure.Chapter at 0x1656db84f50>,\n",
       " <Structure.Chapter at 0x1656db852b0>,\n",
       " <Structure.Chapter at 0x1656db85340>,\n",
       " <Structure.Chapter at 0x1656db853a0>,\n",
       " <Structure.Chapter at 0x1656db85400>,\n",
       " <Structure.Chapter at 0x1656db85460>,\n",
       " <Structure.Chapter at 0x1656db854c0>,\n",
       " <Structure.Chapter at 0x1656db85520>,\n",
       " <Structure.Chapter at 0x1656db85580>,\n",
       " <Structure.Chapter at 0x1656db855e0>,\n",
       " <Structure.Chapter at 0x1656db85640>,\n",
       " <Structure.Chapter at 0x1656db856a0>,\n",
       " <Structure.Chapter at 0x1656db85700>,\n",
       " <Structure.Chapter at 0x1656db85760>,\n",
       " <Structure.Chapter at 0x1656db857c0>,\n",
       " <Structure.Chapter at 0x1656db85820>,\n",
       " <Structure.Chapter at 0x1656db85880>,\n",
       " <Structure.Chapter at 0x1656db858e0>,\n",
       " <Structure.Chapter at 0x1656db85940>,\n",
       " <Structure.Chapter at 0x1656db859a0>,\n",
       " <Structure.Chapter at 0x1656db85a00>,\n",
       " <Structure.Chapter at 0x1656db85a60>,\n",
       " <Structure.Chapter at 0x1656db85ac0>,\n",
       " <Structure.Chapter at 0x1656db85b20>,\n",
       " <Structure.Chapter at 0x1656db85b80>,\n",
       " <Structure.Chapter at 0x1656db85be0>,\n",
       " <Structure.Chapter at 0x1656db85c40>,\n",
       " <Structure.Chapter at 0x1656db85ca0>,\n",
       " <Structure.Chapter at 0x1656db85d00>,\n",
       " <Structure.Chapter at 0x1656db85d60>,\n",
       " <Structure.Chapter at 0x1656db85dc0>,\n",
       " <Structure.Chapter at 0x1656db85e20>,\n",
       " <Structure.Chapter at 0x1656db85e80>,\n",
       " <Structure.Chapter at 0x1656db85ee0>,\n",
       " <Structure.Chapter at 0x1656db85f40>,\n",
       " <Structure.Chapter at 0x1656db85fa0>,\n",
       " <Structure.Chapter at 0x1656db86000>,\n",
       " <Structure.Chapter at 0x1656db86060>,\n",
       " <Structure.Chapter at 0x1656db860c0>,\n",
       " <Structure.Chapter at 0x1656db86120>,\n",
       " <Structure.Chapter at 0x1656db86180>,\n",
       " <Structure.Chapter at 0x1656db861e0>,\n",
       " <Structure.Chapter at 0x1656db86240>,\n",
       " <Structure.Chapter at 0x1656db862a0>,\n",
       " <Structure.Chapter at 0x1656db86300>,\n",
       " <Structure.Chapter at 0x1656db86360>,\n",
       " <Structure.Chapter at 0x1656db863c0>,\n",
       " <Structure.Chapter at 0x1656db86420>,\n",
       " <Structure.Chapter at 0x1656db86480>,\n",
       " <Structure.Chapter at 0x1656db864e0>,\n",
       " <Structure.Chapter at 0x1656db86540>,\n",
       " <Structure.Chapter at 0x1656db865a0>,\n",
       " <Structure.Chapter at 0x1656db86600>,\n",
       " <Structure.Chapter at 0x1656db86660>,\n",
       " <Structure.Chapter at 0x1656db866c0>,\n",
       " <Structure.Chapter at 0x1656db86720>,\n",
       " <Structure.Chapter at 0x1656db86780>,\n",
       " <Structure.Chapter at 0x1656db867e0>,\n",
       " <Structure.Chapter at 0x1656db86840>,\n",
       " <Structure.Chapter at 0x1656db868a0>,\n",
       " <Structure.Chapter at 0x1656db86900>,\n",
       " <Structure.Chapter at 0x1656db86960>,\n",
       " <Structure.Chapter at 0x1656db869c0>,\n",
       " <Structure.Chapter at 0x1656db86a20>,\n",
       " <Structure.Chapter at 0x1656db86a80>,\n",
       " <Structure.Chapter at 0x1656db86ae0>,\n",
       " <Structure.Chapter at 0x1656db86b40>,\n",
       " <Structure.Chapter at 0x1656db86ba0>,\n",
       " <Structure.Chapter at 0x1656db86c00>,\n",
       " <Structure.Chapter at 0x1656db86c60>,\n",
       " <Structure.Chapter at 0x1656db86cc0>,\n",
       " <Structure.Chapter at 0x1656db86d20>,\n",
       " <Structure.Chapter at 0x1656db86d80>,\n",
       " <Structure.Chapter at 0x1656db86de0>,\n",
       " <Structure.Chapter at 0x1656db86e40>,\n",
       " <Structure.Chapter at 0x1656db86ea0>,\n",
       " <Structure.Chapter at 0x1656db86f00>,\n",
       " <Structure.Chapter at 0x1656db86f60>,\n",
       " <Structure.Chapter at 0x1656db86fc0>,\n",
       " <Structure.Chapter at 0x1656db87020>,\n",
       " <Structure.Chapter at 0x1656db87080>,\n",
       " <Structure.Chapter at 0x1656db870e0>,\n",
       " <Structure.Chapter at 0x1656db87140>,\n",
       " <Structure.Chapter at 0x1656db871a0>,\n",
       " <Structure.Chapter at 0x1656db87200>,\n",
       " <Structure.Chapter at 0x1656db87260>,\n",
       " <Structure.Chapter at 0x1656db872c0>,\n",
       " <Structure.Chapter at 0x1656db87320>,\n",
       " <Structure.Chapter at 0x1656db87380>,\n",
       " <Structure.Chapter at 0x1656db873e0>,\n",
       " <Structure.Chapter at 0x1656db87440>,\n",
       " <Structure.Chapter at 0x1656db874a0>,\n",
       " <Structure.Chapter at 0x1656db87500>,\n",
       " <Structure.Chapter at 0x1656db87560>,\n",
       " <Structure.Chapter at 0x1656db875c0>,\n",
       " <Structure.Chapter at 0x1656db87620>,\n",
       " <Structure.Chapter at 0x1656db87680>,\n",
       " <Structure.Chapter at 0x1656db876e0>,\n",
       " <Structure.Chapter at 0x1656db87740>,\n",
       " <Structure.Chapter at 0x1656db877a0>,\n",
       " <Structure.Chapter at 0x1656db87800>,\n",
       " <Structure.Chapter at 0x1656db87860>,\n",
       " <Structure.Chapter at 0x1656db878c0>,\n",
       " <Structure.Chapter at 0x1656db87920>]"
      ]
     },
     "execution_count": 111,
     "metadata": {},
     "output_type": "execute_result"
    }
   ],
   "source": [
    "from Structure import Chapter\n",
    "from bs4 import BeautifulSoup\n",
    "\n",
    "def _extractChaptersContent(html_text:str):\n",
    "    soup = BeautifulSoup(html_text, \"html.parser\")\n",
    "    div_tags = soup.find_all('div',{\"x-data\": True,\n",
    "                                    \"x-show\": True,\n",
    "                                    \"class\": True})\n",
    "    _seasonDict = {\n",
    "        \n",
    "    }\n",
    "\n",
    "    _chapters = []\n",
    "\n",
    "    for _tag in div_tags[::-1]:\n",
    "        _header = _tag.find('span', class_=\"\").text\n",
    "        _link = _tag.find('a', {\"href\": True,\n",
    "                                \"class\": True})[\"href\"]\n",
    "        _time = _tag.time[\"datetime\"]\n",
    "\n",
    "\n",
    "        \n",
    "        _data = _header.split(\" \")\n",
    "        _chapter = _data[-1]\n",
    "        _seasonTag = _data[0]\n",
    "        try:\n",
    "            _Season = _seasonDict[_seasonTag]\n",
    "        except:\n",
    "            _seasonDict[_seasonTag] = len(_seasonDict) + 1\n",
    "            _Season = _seasonDict[_seasonTag]\n",
    "\n",
    "        _chapterID = int((float(_chapter) * 10) + (100000 * float(_Season)))\n",
    "\n",
    "        if '.' in _chapter:\n",
    "            _chapter = float(_chapter)\n",
    "        else:\n",
    "            _chapter = int(_chapter)\n",
    "\n",
    "        # Populate the Chapter Structure\n",
    "        ChapterObject = Chapter()\n",
    "        ChapterObject.ChapterID = _chapterID\n",
    "        ChapterObject.Link = _link\n",
    "        ChapterObject.ChapterNumber = _chapter\n",
    "        ChapterObject.Season = _Season\n",
    "        ChapterObject.SeasonTag = _seasonTag\n",
    "        ChapterObject.Date = _time\n",
    "        _chapters.append(ChapterObject)\n",
    "\n",
    "    return _chapters\n",
    "\n",
    "\n",
    "x = _extractChaptersContent(response.text)\n",
    "x"
   ]
  },
  {
   "cell_type": "code",
   "execution_count": 113,
   "metadata": {},
   "outputs": [
    {
     "data": {
      "text/plain": [
       "{'ChapterID': 100010,\n",
       " 'ChapterNumber': 1,\n",
       " 'SeasonTag': 'Chapter',\n",
       " 'Season': 1,\n",
       " 'Link': 'https://weebcentral.com/chapters/01J76XYY78M2AXF83J119CSCM7',\n",
       " 'PagesNumber': None,\n",
       " 'FirstPageLink': None,\n",
       " 'FirstPageQickLink': None,\n",
       " 'Date': '2024-09-07T17:04:15.717Z'}"
      ]
     },
     "execution_count": 113,
     "metadata": {},
     "output_type": "execute_result"
    }
   ],
   "source": [
    "x[0].__dict__"
   ]
  },
  {
   "cell_type": "code",
   "execution_count": null,
   "metadata": {},
   "outputs": [
    {
     "data": {
      "text/plain": [
       "[]"
      ]
     },
     "execution_count": 62,
     "metadata": {},
     "output_type": "execute_result"
    }
   ],
   "source": []
  }
 ],
 "metadata": {
  "kernelspec": {
   "display_name": "Python 3",
   "language": "python",
   "name": "python3"
  },
  "language_info": {
   "codemirror_mode": {
    "name": "ipython",
    "version": 3
   },
   "file_extension": ".py",
   "mimetype": "text/x-python",
   "name": "python",
   "nbconvert_exporter": "python",
   "pygments_lexer": "ipython3",
   "version": "3.12.4"
  }
 },
 "nbformat": 4,
 "nbformat_minor": 2
}
