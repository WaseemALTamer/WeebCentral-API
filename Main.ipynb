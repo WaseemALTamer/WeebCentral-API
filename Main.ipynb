{
 "cells": [
  {
   "cell_type": "code",
   "execution_count": 1,
   "metadata": {},
   "outputs": [],
   "source": [
    "from API import NamesIDGraper, SeriesDataGraper, ChaptersDataGraper"
   ]
  },
  {
   "cell_type": "code",
   "execution_count": 2,
   "metadata": {},
   "outputs": [
    {
     "name": "stdout",
     "output_type": "stream",
     "text": [
      "{'DomainID': '01J76XYC1GAF2FWQ59Q0Y17TPA', 'DomainName': 'Dr-Stone', 'Names': [], 'Chapters': [], 'DumbArray': [], 'CoverImage': None, 'Description': None}\n",
      "{'DomainID': '01J76XY8NKJ7V60598350EEYW8', 'DomainName': 'Stone-Ocean', 'Names': [], 'Chapters': [], 'DumbArray': [], 'CoverImage': None, 'Description': None}\n",
      "{'DomainID': '01J76XYBQB0VY5GTAQFMN3CJ9H', 'DomainName': 'Livingstone', 'Names': [], 'Chapters': [], 'DumbArray': [], 'CoverImage': None, 'Description': None}\n",
      "{'DomainID': '01J76XYD7HNZG7GSXBRWYG4CNQ', 'DomainName': 'Dr-Stone-Reboot-Byakuya', 'Names': [], 'Chapters': [], 'DumbArray': [], 'CoverImage': None, 'Description': None}\n"
     ]
    }
   ],
   "source": [
    "\n",
    "# this will search the data base this relies on the weebcentral Search Function\n",
    "# this will return the series in stucture you can  view  the  \"Series\" stucture\n",
    "# in the Stucture.py file.\n",
    "Searcher = NamesIDGraper() # this will only get the domain id and the domain name\n",
    "_series = Searcher.SearchSeriesOnline(\"dr.stone\")\n",
    "\n",
    "for _s in _series:\n",
    "    print(_s.__dict__)"
   ]
  },
  {
   "cell_type": "code",
   "execution_count": 3,
   "metadata": {},
   "outputs": [
    {
     "name": "stdout",
     "output_type": "stream",
     "text": [
      "Dr-Stone\n",
      "01J76XYC1GAF2FWQ59Q0Y17TPA\n"
     ]
    }
   ],
   "source": [
    "# if you want the data of specific seires name after searching for it you can simpy \n",
    "# just access it spereitly\n",
    "\n",
    "print(_series[0].DomainName)\n",
    "print(_series[0].DomainID)"
   ]
  },
  {
   "cell_type": "code",
   "execution_count": 4,
   "metadata": {},
   "outputs": [
    {
     "data": {
      "text/plain": [
       "9050"
      ]
     },
     "execution_count": 4,
     "metadata": {},
     "output_type": "execute_result"
    }
   ],
   "source": [
    "# if you want to grab all the Series from the data base  names  and ids\n",
    "# you there is a function for that as well dont use the legacy function\n",
    "# because that is ineffecient only use it if this function breaks\n",
    "\n",
    "Searcher.GrapAllSeriesOnline() # this will store the results on SeriesData var\n",
    "len(Searcher.SeriesData) # this will show the number of series found"
   ]
  },
  {
   "cell_type": "code",
   "execution_count": 5,
   "metadata": {},
   "outputs": [
    {
     "name": "stdout",
     "output_type": "stream",
     "text": [
      "Names found:['Dr. STONE']\n",
      "Chapters found: 235\n",
      "Description:One day Ooki Taiju builds his courage to confesses to Yuzuriha, the girl he loves, when the sky is filled with a strange light. Everyone touched by that light is turned to stone. After a thousands years trapped in stone, he breaks out of his shell and starts to explore the world until he finds his old friend Senku, who was freed from his stone state half a year ago.\n",
      "\n",
      "Taiju and Senku decide to team up and bring back the now lost human civilization, starting by investigating the true nature of the light that turned them all to stone thousands of years ago and how to fix the situation.\n",
      "CoverImageSize: 61694\n",
      "Other Info: [{'Z=': 1, 'Ex': 2}]\n"
     ]
    }
   ],
   "source": [
    "# assume you found the series that you want the data from  _my_series\n",
    "# will assume that it is that series that you want we will go forward\n",
    "# and populate the series based on what you need\n",
    "\n",
    "# this cell will assume that you want general data\n",
    "\n",
    "_my_series = _series[0]\n",
    "\n",
    "DataGraber = SeriesDataGraper() # this class will grab the relevent information for you\n",
    "                                # note that this will not get the tags authers but they\n",
    "                                # might be implemented for the futuer\n",
    "\n",
    "DataGraber.Series = _my_series # give the class access to the Series struct that contain\n",
    "                               # the Series DomainID and it only needs  the  DomainID to\n",
    "                               # grab the information\n",
    "\n",
    "DataGraber.GrapSeriesInfo() # this will grab the names and discription\n",
    "DataGraber.GrapChaptersInfo() # this will grab the Chapter info\n",
    "DataGraber.GrapSeriesCover() # this will grab the cover image of the series\n",
    "\n",
    "print(f\"Names found:{_my_series.Names}\")\n",
    "print(f\"Chapters found: {len(_my_series.Chapters)}\")\n",
    "print(f\"Description:{_my_series.Description}\")\n",
    "print(f\"CoverImageSize: {len(_my_series.CoverImage)}\")\n",
    "print(f\"Other Info: {_my_series.DumbArray}\") # this mainly contain the seasons tag and which season it is\n"
   ]
  },
  {
   "cell_type": "code",
   "execution_count": null,
   "metadata": {},
   "outputs": [
    {
     "data": {
      "text/plain": [
       "{'ChapterID': 100010,\n",
       " 'ChapterNumber': 1,\n",
       " 'SeasonTag': 'Z=',\n",
       " 'Season': 1,\n",
       " 'Link': 'https://weebcentral.com/chapters/01J76XYYHDJ12SRYE8YP1JQF10',\n",
       " 'PagesNumber': 53,\n",
       " 'FirstPageLink': 'https://official.lowee.us/manga/Dr-Stone/0001-001.png',\n",
       " 'FirstPageQickLink': None,\n",
       " 'Date': '2024-09-07T17:04:15.717Z'}"
      ]
     },
     "execution_count": 6,
     "metadata": {},
     "output_type": "execute_result"
    }
   ],
   "source": [
    "# now that you got you series chapters you want to grab the information for that chapter\n",
    "# now you can use the ChaptersDataGraper class to do that for you same way you  got  the\n",
    "# information for the series we can now get the infromation for  the  chapter  we assume\n",
    "# that  _my_Cahtper is your chapter that you want to get the information for\n",
    "\n",
    "\n",
    "_my_Cahtper = _my_series.Chapters[0]\n",
    "\n",
    "DataGraber = ChaptersDataGraper() # this  will  grab  the  data  for you of the  chapter\n",
    "                                  # the chapter will comes   with   its   own  DomainId,  \n",
    "                                  # ChapterNumber,  SeasonTag, Link, and  Season  Number\n",
    "                                  # this information is filled when you run the function \n",
    "                                  # SeriesDataGraper.GrapChaptersInfo()\n",
    "\n",
    "DataGraber.Chapter = _my_Cahtper # pass the chapter to the class\n",
    "\n",
    "DataGraber.GrapChapterInfromation() # get the rest of the information this will mostly\n",
    "                                    # get you the number  of  pages  the  chapter  has\n",
    "                                    # and the link for the first image\n",
    "\n",
    "_my_Cahtper.__dict__"
   ]
  },
  {
   "cell_type": "code",
   "execution_count": 8,
   "metadata": {},
   "outputs": [
    {
     "data": {
      "text/plain": [
       "{'ChapterID': 100020,\n",
       " 'ChapterNumber': 2,\n",
       " 'SeasonTag': 'Z=',\n",
       " 'Season': 1,\n",
       " 'Link': 'https://weebcentral.com/chapters/01J76XYYHD0AQJWY6Q8QMCPESG',\n",
       " 'PagesNumber': 1000,\n",
       " 'FirstPageLink': None,\n",
       " 'FirstPageQickLink': 'https://official.lowee.us/manga/Dr-Stone/0002-001.png',\n",
       " 'Date': '2024-09-07T17:04:15.717Z'}"
      ]
     },
     "execution_count": 8,
     "metadata": {},
     "output_type": "execute_result"
    }
   ],
   "source": [
    "# instead of graping each chapter information one by one we can interplate the  first\n",
    "# page url through a a function which will look at previous urls and generate the url\n",
    "# that based on the other ones this code be wrong but it works most  of  the  time so\n",
    "# feel free to use it, if there isnt any url that it could base it self  on  then  it\n",
    "# will grap it for you manually, you need to be  using  the  same  ChaptersDataGraper\n",
    "# object in order for this to work it is recommended you use it for all the  chapters\n",
    "# at once when used \n",
    "\n",
    "for _chapter in _my_series.Chapters:\n",
    "    DataGraber.Chapter = _chapter # place the chapter that you trying to  interplate\n",
    "    DataGraber.GrapChapterFirstPageQuickLink() # this will interplate the first page  \n",
    "                                               # url or get the real url for  you if\n",
    "                                               # it cant interplate it for you\n",
    "\n",
    "_my_series.Chapters[1].__dict__"
   ]
  }
 ],
 "metadata": {
  "kernelspec": {
   "display_name": "Python 3",
   "language": "python",
   "name": "python3"
  },
  "language_info": {
   "codemirror_mode": {
    "name": "ipython",
    "version": 3
   },
   "file_extension": ".py",
   "mimetype": "text/x-python",
   "name": "python",
   "nbconvert_exporter": "python",
   "pygments_lexer": "ipython3",
   "version": "3.12.4"
  }
 },
 "nbformat": 4,
 "nbformat_minor": 4
}
